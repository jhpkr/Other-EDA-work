{
 "cells": [
  {
   "cell_type": "code",
   "execution_count": 1,
   "id": "792afd7a",
   "metadata": {},
   "outputs": [],
   "source": [
    "import numpy as np\n",
    "import pandas as pd\n",
    "import matplotlib.pyplot as plt\n",
    "import plotly.express as px"
   ]
  },
  {
   "cell_type": "code",
   "execution_count": 2,
   "id": "184da0b0",
   "metadata": {},
   "outputs": [],
   "source": [
    "salary = pd.read_csv('surveyUS.csv')\n",
    "salary['gender'] = salary['gender'].astype('str') \n",
    "salary['race'] = salary['race'].astype('str') \n",
    "salary['age'] = salary['age'].astype('str') \n",
    "salary['state'] = salary['state'].astype('str')"
   ]
  },
  {
   "cell_type": "code",
   "execution_count": 3,
   "id": "91460ff6",
   "metadata": {},
   "outputs": [
    {
     "data": {
      "text/html": [
       "<div>\n",
       "<style scoped>\n",
       "    .dataframe tbody tr th:only-of-type {\n",
       "        vertical-align: middle;\n",
       "    }\n",
       "\n",
       "    .dataframe tbody tr th {\n",
       "        vertical-align: top;\n",
       "    }\n",
       "\n",
       "    .dataframe thead th {\n",
       "        text-align: right;\n",
       "    }\n",
       "</style>\n",
       "<table border=\"1\" class=\"dataframe\">\n",
       "  <thead>\n",
       "    <tr style=\"text-align: right;\">\n",
       "      <th></th>\n",
       "      <th>timestamp</th>\n",
       "      <th>age</th>\n",
       "      <th>industry</th>\n",
       "      <th>job_title</th>\n",
       "      <th>additional_context_on_job_title</th>\n",
       "      <th>annual_salary</th>\n",
       "      <th>other_monetary_comp</th>\n",
       "      <th>currency</th>\n",
       "      <th>currency_other</th>\n",
       "      <th>additional_context_on_income</th>\n",
       "      <th>country</th>\n",
       "      <th>state</th>\n",
       "      <th>city</th>\n",
       "      <th>years_of_professional_experience</th>\n",
       "      <th>years_of_experience_in_field</th>\n",
       "      <th>education_level</th>\n",
       "      <th>gender</th>\n",
       "      <th>race</th>\n",
       "    </tr>\n",
       "  </thead>\n",
       "  <tbody>\n",
       "    <tr>\n",
       "      <th>0</th>\n",
       "      <td>4/27/2021 11:02</td>\n",
       "      <td>25-34</td>\n",
       "      <td>Education (Higher Education)</td>\n",
       "      <td>Research and Instruction Librarian</td>\n",
       "      <td>NaN</td>\n",
       "      <td>55000</td>\n",
       "      <td>0.0</td>\n",
       "      <td>USD</td>\n",
       "      <td>NaN</td>\n",
       "      <td>NaN</td>\n",
       "      <td>United States</td>\n",
       "      <td>Massachusetts</td>\n",
       "      <td>Boston</td>\n",
       "      <td>5-7 years</td>\n",
       "      <td>5-7 years</td>\n",
       "      <td>Master's degree</td>\n",
       "      <td>Woman</td>\n",
       "      <td>White</td>\n",
       "    </tr>\n",
       "    <tr>\n",
       "      <th>1</th>\n",
       "      <td>4/27/2021 11:02</td>\n",
       "      <td>25-34</td>\n",
       "      <td>Accounting, Banking &amp; Finance</td>\n",
       "      <td>Marketing Specialist</td>\n",
       "      <td>NaN</td>\n",
       "      <td>34000</td>\n",
       "      <td>NaN</td>\n",
       "      <td>USD</td>\n",
       "      <td>NaN</td>\n",
       "      <td>NaN</td>\n",
       "      <td>US</td>\n",
       "      <td>Tennessee</td>\n",
       "      <td>Chattanooga</td>\n",
       "      <td>2 - 4 years</td>\n",
       "      <td>2 - 4 years</td>\n",
       "      <td>College degree</td>\n",
       "      <td>Woman</td>\n",
       "      <td>White</td>\n",
       "    </tr>\n",
       "    <tr>\n",
       "      <th>2</th>\n",
       "      <td>4/27/2021 11:02</td>\n",
       "      <td>25-34</td>\n",
       "      <td>Nonprofits</td>\n",
       "      <td>Program Manager</td>\n",
       "      <td>NaN</td>\n",
       "      <td>62000</td>\n",
       "      <td>3000.0</td>\n",
       "      <td>USD</td>\n",
       "      <td>NaN</td>\n",
       "      <td>NaN</td>\n",
       "      <td>USA</td>\n",
       "      <td>Wisconsin</td>\n",
       "      <td>Milwaukee</td>\n",
       "      <td>8 - 10 years</td>\n",
       "      <td>5-7 years</td>\n",
       "      <td>College degree</td>\n",
       "      <td>Woman</td>\n",
       "      <td>White</td>\n",
       "    </tr>\n",
       "    <tr>\n",
       "      <th>3</th>\n",
       "      <td>4/27/2021 11:02</td>\n",
       "      <td>25-34</td>\n",
       "      <td>Accounting, Banking &amp; Finance</td>\n",
       "      <td>Accounting Manager</td>\n",
       "      <td>NaN</td>\n",
       "      <td>60000</td>\n",
       "      <td>7000.0</td>\n",
       "      <td>USD</td>\n",
       "      <td>NaN</td>\n",
       "      <td>NaN</td>\n",
       "      <td>US</td>\n",
       "      <td>South Carolina</td>\n",
       "      <td>Greenville</td>\n",
       "      <td>8 - 10 years</td>\n",
       "      <td>5-7 years</td>\n",
       "      <td>College degree</td>\n",
       "      <td>Woman</td>\n",
       "      <td>White</td>\n",
       "    </tr>\n",
       "    <tr>\n",
       "      <th>4</th>\n",
       "      <td>4/27/2021 11:02</td>\n",
       "      <td>25-34</td>\n",
       "      <td>Education (Higher Education)</td>\n",
       "      <td>Scholarly Publishing Librarian</td>\n",
       "      <td>NaN</td>\n",
       "      <td>62000</td>\n",
       "      <td>NaN</td>\n",
       "      <td>USD</td>\n",
       "      <td>NaN</td>\n",
       "      <td>NaN</td>\n",
       "      <td>USA</td>\n",
       "      <td>New Hampshire</td>\n",
       "      <td>Hanover</td>\n",
       "      <td>8 - 10 years</td>\n",
       "      <td>2 - 4 years</td>\n",
       "      <td>Master's degree</td>\n",
       "      <td>Man</td>\n",
       "      <td>White</td>\n",
       "    </tr>\n",
       "    <tr>\n",
       "      <th>...</th>\n",
       "      <td>...</td>\n",
       "      <td>...</td>\n",
       "      <td>...</td>\n",
       "      <td>...</td>\n",
       "      <td>...</td>\n",
       "      <td>...</td>\n",
       "      <td>...</td>\n",
       "      <td>...</td>\n",
       "      <td>...</td>\n",
       "      <td>...</td>\n",
       "      <td>...</td>\n",
       "      <td>...</td>\n",
       "      <td>...</td>\n",
       "      <td>...</td>\n",
       "      <td>...</td>\n",
       "      <td>...</td>\n",
       "      <td>...</td>\n",
       "      <td>...</td>\n",
       "    </tr>\n",
       "    <tr>\n",
       "      <th>21673</th>\n",
       "      <td>5/17/2021 17:42</td>\n",
       "      <td>25-34</td>\n",
       "      <td>Media &amp; Digital</td>\n",
       "      <td>Senior Reporter</td>\n",
       "      <td>Trade publication</td>\n",
       "      <td>85000</td>\n",
       "      <td>2000.0</td>\n",
       "      <td>USD</td>\n",
       "      <td>NaN</td>\n",
       "      <td>NaN</td>\n",
       "      <td>USA</td>\n",
       "      <td>New York</td>\n",
       "      <td>New York City</td>\n",
       "      <td>5-7 years</td>\n",
       "      <td>5-7 years</td>\n",
       "      <td>College degree</td>\n",
       "      <td>Woman</td>\n",
       "      <td>White</td>\n",
       "    </tr>\n",
       "    <tr>\n",
       "      <th>21674</th>\n",
       "      <td>5/17/2021 17:46</td>\n",
       "      <td>35-44</td>\n",
       "      <td>Nonprofits</td>\n",
       "      <td>Production and Workflow Manager</td>\n",
       "      <td>NaN</td>\n",
       "      <td>40000</td>\n",
       "      <td>NaN</td>\n",
       "      <td>USD</td>\n",
       "      <td>NaN</td>\n",
       "      <td>NaN</td>\n",
       "      <td>USA</td>\n",
       "      <td>Pennsylvania</td>\n",
       "      <td>Pittsburgh</td>\n",
       "      <td>11 - 20 years</td>\n",
       "      <td>2 - 4 years</td>\n",
       "      <td>College degree</td>\n",
       "      <td>Woman</td>\n",
       "      <td>Asian or Asian American</td>\n",
       "    </tr>\n",
       "    <tr>\n",
       "      <th>21675</th>\n",
       "      <td>5/17/2021 17:47</td>\n",
       "      <td>25-34</td>\n",
       "      <td>Computing or Tech</td>\n",
       "      <td>Chief of Staff</td>\n",
       "      <td>NaN</td>\n",
       "      <td>148000</td>\n",
       "      <td>29000.0</td>\n",
       "      <td>USD</td>\n",
       "      <td>NaN</td>\n",
       "      <td>NaN</td>\n",
       "      <td>USA</td>\n",
       "      <td>California</td>\n",
       "      <td>Bay Area</td>\n",
       "      <td>11 - 20 years</td>\n",
       "      <td>11 - 20 years</td>\n",
       "      <td>Master's degree</td>\n",
       "      <td>Woman</td>\n",
       "      <td>White</td>\n",
       "    </tr>\n",
       "    <tr>\n",
       "      <th>21676</th>\n",
       "      <td>5/17/2021 18:20</td>\n",
       "      <td>25-34</td>\n",
       "      <td>Marketing, Advertising &amp; PR</td>\n",
       "      <td>Digital Marketing Manager</td>\n",
       "      <td>Small agency. I manage a team of ~15 people, b...</td>\n",
       "      <td>65000</td>\n",
       "      <td>5000.0</td>\n",
       "      <td>USD</td>\n",
       "      <td>NaN</td>\n",
       "      <td>NaN</td>\n",
       "      <td>United States</td>\n",
       "      <td>Washington</td>\n",
       "      <td>Seattle</td>\n",
       "      <td>2 - 4 years</td>\n",
       "      <td>2 - 4 years</td>\n",
       "      <td>College degree</td>\n",
       "      <td>Woman</td>\n",
       "      <td>White</td>\n",
       "    </tr>\n",
       "    <tr>\n",
       "      <th>21677</th>\n",
       "      <td>5/17/2021 19:48</td>\n",
       "      <td>35-44</td>\n",
       "      <td>Law</td>\n",
       "      <td>Knowledge Management Manager</td>\n",
       "      <td>NaN</td>\n",
       "      <td>146192</td>\n",
       "      <td>3850.0</td>\n",
       "      <td>USD</td>\n",
       "      <td>NaN</td>\n",
       "      <td>NaN</td>\n",
       "      <td>United States</td>\n",
       "      <td>Michigan</td>\n",
       "      <td>Troy</td>\n",
       "      <td>11 - 20 years</td>\n",
       "      <td>8 - 10 years</td>\n",
       "      <td>Master's degree</td>\n",
       "      <td>Woman</td>\n",
       "      <td>White</td>\n",
       "    </tr>\n",
       "  </tbody>\n",
       "</table>\n",
       "<p>21678 rows × 18 columns</p>\n",
       "</div>"
      ],
      "text/plain": [
       "             timestamp    age                       industry  \\\n",
       "0      4/27/2021 11:02  25-34   Education (Higher Education)   \n",
       "1      4/27/2021 11:02  25-34  Accounting, Banking & Finance   \n",
       "2      4/27/2021 11:02  25-34                     Nonprofits   \n",
       "3      4/27/2021 11:02  25-34  Accounting, Banking & Finance   \n",
       "4      4/27/2021 11:02  25-34   Education (Higher Education)   \n",
       "...                ...    ...                            ...   \n",
       "21673  5/17/2021 17:42  25-34                Media & Digital   \n",
       "21674  5/17/2021 17:46  35-44                     Nonprofits   \n",
       "21675  5/17/2021 17:47  25-34              Computing or Tech   \n",
       "21676  5/17/2021 18:20  25-34    Marketing, Advertising & PR   \n",
       "21677  5/17/2021 19:48  35-44                            Law   \n",
       "\n",
       "                                job_title  \\\n",
       "0      Research and Instruction Librarian   \n",
       "1                    Marketing Specialist   \n",
       "2                         Program Manager   \n",
       "3                      Accounting Manager   \n",
       "4          Scholarly Publishing Librarian   \n",
       "...                                   ...   \n",
       "21673                     Senior Reporter   \n",
       "21674     Production and Workflow Manager   \n",
       "21675                      Chief of Staff   \n",
       "21676           Digital Marketing Manager   \n",
       "21677        Knowledge Management Manager   \n",
       "\n",
       "                         additional_context_on_job_title  annual_salary  \\\n",
       "0                                                    NaN          55000   \n",
       "1                                                    NaN          34000   \n",
       "2                                                    NaN          62000   \n",
       "3                                                    NaN          60000   \n",
       "4                                                    NaN          62000   \n",
       "...                                                  ...            ...   \n",
       "21673                                  Trade publication          85000   \n",
       "21674                                                NaN          40000   \n",
       "21675                                                NaN         148000   \n",
       "21676  Small agency. I manage a team of ~15 people, b...          65000   \n",
       "21677                                                NaN         146192   \n",
       "\n",
       "       other_monetary_comp currency currency_other  \\\n",
       "0                      0.0      USD            NaN   \n",
       "1                      NaN      USD            NaN   \n",
       "2                   3000.0      USD            NaN   \n",
       "3                   7000.0      USD            NaN   \n",
       "4                      NaN      USD            NaN   \n",
       "...                    ...      ...            ...   \n",
       "21673               2000.0      USD            NaN   \n",
       "21674                  NaN      USD            NaN   \n",
       "21675              29000.0      USD            NaN   \n",
       "21676               5000.0      USD            NaN   \n",
       "21677               3850.0      USD            NaN   \n",
       "\n",
       "      additional_context_on_income        country           state  \\\n",
       "0                              NaN  United States   Massachusetts   \n",
       "1                              NaN             US       Tennessee   \n",
       "2                              NaN            USA       Wisconsin   \n",
       "3                              NaN             US  South Carolina   \n",
       "4                              NaN            USA   New Hampshire   \n",
       "...                            ...            ...             ...   \n",
       "21673                          NaN            USA        New York   \n",
       "21674                          NaN            USA    Pennsylvania   \n",
       "21675                          NaN            USA      California   \n",
       "21676                          NaN  United States      Washington   \n",
       "21677                          NaN  United States        Michigan   \n",
       "\n",
       "                city years_of_professional_experience  \\\n",
       "0             Boston                        5-7 years   \n",
       "1        Chattanooga                      2 - 4 years   \n",
       "2          Milwaukee                     8 - 10 years   \n",
       "3         Greenville                     8 - 10 years   \n",
       "4            Hanover                     8 - 10 years   \n",
       "...              ...                              ...   \n",
       "21673  New York City                        5-7 years   \n",
       "21674     Pittsburgh                    11 - 20 years   \n",
       "21675       Bay Area                    11 - 20 years   \n",
       "21676        Seattle                      2 - 4 years   \n",
       "21677           Troy                    11 - 20 years   \n",
       "\n",
       "      years_of_experience_in_field  education_level gender  \\\n",
       "0                        5-7 years  Master's degree  Woman   \n",
       "1                      2 - 4 years   College degree  Woman   \n",
       "2                        5-7 years   College degree  Woman   \n",
       "3                        5-7 years   College degree  Woman   \n",
       "4                      2 - 4 years  Master's degree    Man   \n",
       "...                            ...              ...    ...   \n",
       "21673                    5-7 years   College degree  Woman   \n",
       "21674                  2 - 4 years   College degree  Woman   \n",
       "21675                11 - 20 years  Master's degree  Woman   \n",
       "21676                  2 - 4 years   College degree  Woman   \n",
       "21677                 8 - 10 years  Master's degree  Woman   \n",
       "\n",
       "                          race  \n",
       "0                        White  \n",
       "1                        White  \n",
       "2                        White  \n",
       "3                        White  \n",
       "4                        White  \n",
       "...                        ...  \n",
       "21673                    White  \n",
       "21674  Asian or Asian American  \n",
       "21675                    White  \n",
       "21676                    White  \n",
       "21677                    White  \n",
       "\n",
       "[21678 rows x 18 columns]"
      ]
     },
     "execution_count": 3,
     "metadata": {},
     "output_type": "execute_result"
    }
   ],
   "source": [
    "salary.shape #21678 rows and 18 columns\n",
    "salary"
   ]
  },
  {
   "cell_type": "code",
   "execution_count": 4,
   "id": "ea7e333b",
   "metadata": {},
   "outputs": [
    {
     "data": {
      "text/html": [
       "<div>\n",
       "<style scoped>\n",
       "    .dataframe tbody tr th:only-of-type {\n",
       "        vertical-align: middle;\n",
       "    }\n",
       "\n",
       "    .dataframe tbody tr th {\n",
       "        vertical-align: top;\n",
       "    }\n",
       "\n",
       "    .dataframe thead th {\n",
       "        text-align: right;\n",
       "    }\n",
       "</style>\n",
       "<table border=\"1\" class=\"dataframe\">\n",
       "  <thead>\n",
       "    <tr style=\"text-align: right;\">\n",
       "      <th></th>\n",
       "      <th>timestamp</th>\n",
       "      <th>age</th>\n",
       "      <th>industry</th>\n",
       "      <th>job_title</th>\n",
       "      <th>annual_salary</th>\n",
       "      <th>other_monetary_comp</th>\n",
       "      <th>currency</th>\n",
       "      <th>country</th>\n",
       "      <th>state</th>\n",
       "      <th>city</th>\n",
       "      <th>years_of_professional_experience</th>\n",
       "      <th>years_of_experience_in_field</th>\n",
       "      <th>education_level</th>\n",
       "      <th>gender</th>\n",
       "      <th>race</th>\n",
       "    </tr>\n",
       "  </thead>\n",
       "  <tbody>\n",
       "    <tr>\n",
       "      <th>0</th>\n",
       "      <td>4/27/2021 11:02</td>\n",
       "      <td>25-34</td>\n",
       "      <td>Education (Higher Education)</td>\n",
       "      <td>Research and Instruction Librarian</td>\n",
       "      <td>55000</td>\n",
       "      <td>0.0</td>\n",
       "      <td>USD</td>\n",
       "      <td>United States</td>\n",
       "      <td>Massachusetts</td>\n",
       "      <td>Boston</td>\n",
       "      <td>5-7 years</td>\n",
       "      <td>5-7 years</td>\n",
       "      <td>Master's degree</td>\n",
       "      <td>Woman</td>\n",
       "      <td>White</td>\n",
       "    </tr>\n",
       "    <tr>\n",
       "      <th>1</th>\n",
       "      <td>4/27/2021 11:02</td>\n",
       "      <td>25-34</td>\n",
       "      <td>Accounting, Banking &amp; Finance</td>\n",
       "      <td>Marketing Specialist</td>\n",
       "      <td>34000</td>\n",
       "      <td>NaN</td>\n",
       "      <td>USD</td>\n",
       "      <td>US</td>\n",
       "      <td>Tennessee</td>\n",
       "      <td>Chattanooga</td>\n",
       "      <td>2 - 4 years</td>\n",
       "      <td>2 - 4 years</td>\n",
       "      <td>College degree</td>\n",
       "      <td>Woman</td>\n",
       "      <td>White</td>\n",
       "    </tr>\n",
       "    <tr>\n",
       "      <th>2</th>\n",
       "      <td>4/27/2021 11:02</td>\n",
       "      <td>25-34</td>\n",
       "      <td>Nonprofits</td>\n",
       "      <td>Program Manager</td>\n",
       "      <td>62000</td>\n",
       "      <td>3000.0</td>\n",
       "      <td>USD</td>\n",
       "      <td>USA</td>\n",
       "      <td>Wisconsin</td>\n",
       "      <td>Milwaukee</td>\n",
       "      <td>8 - 10 years</td>\n",
       "      <td>5-7 years</td>\n",
       "      <td>College degree</td>\n",
       "      <td>Woman</td>\n",
       "      <td>White</td>\n",
       "    </tr>\n",
       "    <tr>\n",
       "      <th>3</th>\n",
       "      <td>4/27/2021 11:02</td>\n",
       "      <td>25-34</td>\n",
       "      <td>Accounting, Banking &amp; Finance</td>\n",
       "      <td>Accounting Manager</td>\n",
       "      <td>60000</td>\n",
       "      <td>7000.0</td>\n",
       "      <td>USD</td>\n",
       "      <td>US</td>\n",
       "      <td>South Carolina</td>\n",
       "      <td>Greenville</td>\n",
       "      <td>8 - 10 years</td>\n",
       "      <td>5-7 years</td>\n",
       "      <td>College degree</td>\n",
       "      <td>Woman</td>\n",
       "      <td>White</td>\n",
       "    </tr>\n",
       "    <tr>\n",
       "      <th>4</th>\n",
       "      <td>4/27/2021 11:02</td>\n",
       "      <td>25-34</td>\n",
       "      <td>Education (Higher Education)</td>\n",
       "      <td>Scholarly Publishing Librarian</td>\n",
       "      <td>62000</td>\n",
       "      <td>NaN</td>\n",
       "      <td>USD</td>\n",
       "      <td>USA</td>\n",
       "      <td>New Hampshire</td>\n",
       "      <td>Hanover</td>\n",
       "      <td>8 - 10 years</td>\n",
       "      <td>2 - 4 years</td>\n",
       "      <td>Master's degree</td>\n",
       "      <td>Man</td>\n",
       "      <td>White</td>\n",
       "    </tr>\n",
       "  </tbody>\n",
       "</table>\n",
       "</div>"
      ],
      "text/plain": [
       "         timestamp    age                       industry  \\\n",
       "0  4/27/2021 11:02  25-34   Education (Higher Education)   \n",
       "1  4/27/2021 11:02  25-34  Accounting, Banking & Finance   \n",
       "2  4/27/2021 11:02  25-34                     Nonprofits   \n",
       "3  4/27/2021 11:02  25-34  Accounting, Banking & Finance   \n",
       "4  4/27/2021 11:02  25-34   Education (Higher Education)   \n",
       "\n",
       "                            job_title  annual_salary  other_monetary_comp  \\\n",
       "0  Research and Instruction Librarian          55000                  0.0   \n",
       "1                Marketing Specialist          34000                  NaN   \n",
       "2                     Program Manager          62000               3000.0   \n",
       "3                  Accounting Manager          60000               7000.0   \n",
       "4      Scholarly Publishing Librarian          62000                  NaN   \n",
       "\n",
       "  currency        country           state         city  \\\n",
       "0      USD  United States   Massachusetts       Boston   \n",
       "1      USD             US       Tennessee  Chattanooga   \n",
       "2      USD            USA       Wisconsin    Milwaukee   \n",
       "3      USD             US  South Carolina   Greenville   \n",
       "4      USD            USA   New Hampshire      Hanover   \n",
       "\n",
       "  years_of_professional_experience years_of_experience_in_field  \\\n",
       "0                        5-7 years                    5-7 years   \n",
       "1                      2 - 4 years                  2 - 4 years   \n",
       "2                     8 - 10 years                    5-7 years   \n",
       "3                     8 - 10 years                    5-7 years   \n",
       "4                     8 - 10 years                  2 - 4 years   \n",
       "\n",
       "   education_level gender   race  \n",
       "0  Master's degree  Woman  White  \n",
       "1   College degree  Woman  White  \n",
       "2   College degree  Woman  White  \n",
       "3   College degree  Woman  White  \n",
       "4  Master's degree    Man  White  "
      ]
     },
     "execution_count": 4,
     "metadata": {},
     "output_type": "execute_result"
    }
   ],
   "source": [
    "#checking for null values\n",
    "def get_proportion_null(df):\n",
    "  return df.isna().sum()/len(df)\n",
    "\n",
    "def drop_null_columns(df, thresh):\n",
    "  null_props = get_proportion_null(df)\n",
    "  high_null = null_props[null_props > thresh]\n",
    "  high_null_names = list(high_null.index)\n",
    "  df_dropped = df.drop(columns=high_null_names)\n",
    "  return df_dropped\n",
    "\n",
    "get_proportion_null(salary)\n",
    "salary = drop_null_columns(salary,.7) #removing 3 rows with 70% or more na values\n",
    "salary.head()"
   ]
  },
  {
   "cell_type": "code",
   "execution_count": 5,
   "id": "0b644566",
   "metadata": {},
   "outputs": [],
   "source": [
    "salary = salary[salary['currency'] == 'USD']"
   ]
  },
  {
   "cell_type": "code",
   "execution_count": 6,
   "id": "e6c7bdba",
   "metadata": {},
   "outputs": [
    {
     "data": {
      "text/plain": [
       "timestamp                            object\n",
       "age                                  object\n",
       "industry                             object\n",
       "job_title                            object\n",
       "annual_salary                         int64\n",
       "other_monetary_comp                 float64\n",
       "currency                             object\n",
       "country                              object\n",
       "state                                object\n",
       "city                                 object\n",
       "years_of_professional_experience     object\n",
       "years_of_experience_in_field         object\n",
       "education_level                      object\n",
       "gender                               object\n",
       "race                                 object\n",
       "dtype: object"
      ]
     },
     "execution_count": 6,
     "metadata": {},
     "output_type": "execute_result"
    }
   ],
   "source": [
    "salary['other_monetary_comp'].fillna(0, inplace =True)\n",
    "salary.head()\n",
    "salary.dtypes"
   ]
  },
  {
   "cell_type": "code",
   "execution_count": 7,
   "id": "929b4910",
   "metadata": {},
   "outputs": [],
   "source": [
    "salary['gender'] = np.where((salary['gender'] == 'Woman') |\n",
    "                            (salary['gender'] == 'Man') | \n",
    "                            (salary['gender'] == 'Non-binary'), salary['gender'], 'pref not to answer')"
   ]
  },
  {
   "cell_type": "code",
   "execution_count": 8,
   "id": "cc38a6d1",
   "metadata": {},
   "outputs": [],
   "source": [
    "gender_salary = salary.gender.value_counts().loc[lambda x: x>250] #filtering the dataset to only include those with 250 count\n",
    "#this is to make the graph cleaner\n",
    "gender_salary= gender_salary.to_frame()\n",
    "gender_salary.reset_index(inplace = True)"
   ]
  },
  {
   "cell_type": "code",
   "execution_count": 9,
   "id": "5bc99604",
   "metadata": {},
   "outputs": [],
   "source": [
    "salary['race'] = np.where((salary['race'] == 'White') |\n",
    "                            (salary['race'] == 'Asian or Asian American') | \n",
    "                            (salary['race'] == 'Black or African American') | \n",
    "                            (salary['race'] == 'Hispanic, Latino, or Spanish origin') , salary['race'], 'pref not to answer')"
   ]
  },
  {
   "cell_type": "code",
   "execution_count": 10,
   "id": "5f8f4bbb",
   "metadata": {},
   "outputs": [],
   "source": [
    "race_salary = salary.race.value_counts().loc[lambda x: x>150] #read above\n",
    "race_salary= race_salary.to_frame()\n",
    "race_salary.reset_index(inplace = True)"
   ]
  },
  {
   "cell_type": "code",
   "execution_count": 11,
   "id": "c585946f",
   "metadata": {},
   "outputs": [],
   "source": [
    "age_salary = salary.age.value_counts()\n",
    "age_salary= age_salary.to_frame()\n",
    "age_salary.reset_index(inplace = True)\n"
   ]
  },
  {
   "cell_type": "code",
   "execution_count": 12,
   "id": "7662e3ff",
   "metadata": {},
   "outputs": [],
   "source": [
    "salary.dtypes\n",
    "salary['state'] = salary.state.str.split(',').apply(lambda x: x[0])"
   ]
  },
  {
   "cell_type": "code",
   "execution_count": 13,
   "id": "e21f1c65",
   "metadata": {},
   "outputs": [
    {
     "data": {
      "text/plain": [
       "0        MA\n",
       "1        TN\n",
       "2        WI\n",
       "3        SC\n",
       "4        NH\n",
       "         ..\n",
       "21673    NY\n",
       "21674    PA\n",
       "21675    CA\n",
       "21676    WA\n",
       "21677    MI\n",
       "Name: state, Length: 21654, dtype: object"
      ]
     },
     "execution_count": 13,
     "metadata": {},
     "output_type": "execute_result"
    }
   ],
   "source": [
    "us_state_abbrev = {\n",
    "'Alabama': 'AL', 'Alaska': 'AK', 'Arizona': 'AZ', 'Arkansas': 'AR', 'California': 'CA', 'Colorado': 'CO',\n",
    "'Connecticut': 'CT', 'Delaware': 'DE', 'Florida': 'FL', 'Georgia': 'GA', 'Hawaii': 'HI', 'Idaho': 'ID',\n",
    "'Illinois': 'IL', 'Indiana': 'IN', 'Iowa': 'IA', 'Kansas': 'KS', 'Kentucky': 'KY', 'Louisiana': 'LA',\n",
    "'Maine': 'ME', 'Maryland': 'MD', 'Massachusetts': 'MA', 'Michigan': 'MI', 'Minnesota': 'MN', 'Mississippi': 'MS',\n",
    "'Missouri': 'MO', 'Montana': 'MT', 'Nebraska': 'NE', 'Nevada': 'NV', 'New Hampshire': 'NH', 'New Jersey': 'NJ',\n",
    "'New Mexico': 'NM', 'New York': 'NY', 'North Carolina': 'NC', 'North Dakota': 'ND', 'Ohio': 'OH', 'Oklahoma': 'OK',\n",
    "'Oregon': 'OR', 'Pennsylvania': 'PA', 'Rhode Island': 'RI', 'South Carolina': 'SC', 'South Dakota': 'SD',\n",
    "'Tennessee': 'TN', 'Texas': 'TX', 'Utah': 'UT', 'Vermont': 'VT', 'Virginia': 'VA', 'Washington': 'WA',\n",
    "'West Virginia': 'WV', 'Wisconsin': 'WI', 'Wyoming': 'WY', 'District of Columbia' : 'DC'}\n",
    "\n",
    "salary['state'] = salary['state'].map(us_state_abbrev).fillna(salary['state'])\n",
    "salary['state']"
   ]
  },
  {
   "cell_type": "code",
   "execution_count": null,
   "id": "da263763",
   "metadata": {},
   "outputs": [],
   "source": []
  },
  {
   "cell_type": "markdown",
   "id": "9af57389",
   "metadata": {},
   "source": [
    "## EDA"
   ]
  },
  {
   "cell_type": "markdown",
   "id": "89070b00",
   "metadata": {},
   "source": [
    "# Looking at individual characteristics"
   ]
  },
  {
   "cell_type": "code",
   "execution_count": 14,
   "id": "deac2189",
   "metadata": {},
   "outputs": [
    {
     "data": {
      "text/plain": [
       "(array([0, 1, 2, 3]),\n",
       " [Text(0, 0, 'Woman'),\n",
       "  Text(1, 0, 'Man'),\n",
       "  Text(2, 0, 'Non-binary'),\n",
       "  Text(3, 0, 'pref not to answer')])"
      ]
     },
     "execution_count": 14,
     "metadata": {},
     "output_type": "execute_result"
    },
    {
     "data": {
      "image/png": "[encoded data removed]",
      "text/plain": [
       "<Figure size 432x288 with 1 Axes>"
      ]
     },
     "metadata": {
      "needs_background": "light"
     },
     "output_type": "display_data"
    }
   ],
   "source": [
    "gender_salary.plot.bar('index','gender') #this also applies for top15 industries\n",
    "plt.xticks(rotation=90)"
   ]
  },
  {
   "cell_type": "code",
   "execution_count": 15,
   "id": "897e461e",
   "metadata": {},
   "outputs": [
    {
     "data": {
      "text/plain": [
       "<AxesSubplot:xlabel='index'>"
      ]
     },
     "execution_count": 15,
     "metadata": {},
     "output_type": "execute_result"
    },
    {
     "data": {
      "image/png": "[encoded data removed]",
      "text/plain": [
       "<Figure size 432x288 with 1 Axes>"
      ]
     },
     "metadata": {
      "needs_background": "light"
     },
     "output_type": "display_data"
    }
   ],
   "source": [
    "race_salary.plot.bar('index','race')"
   ]
  },
  {
   "cell_type": "code",
   "execution_count": 16,
   "id": "dcdfdc2d",
   "metadata": {},
   "outputs": [
    {
     "data": {
      "text/plain": [
       "25-34         0.441119\n",
       "35-44         0.361965\n",
       "45-54         0.117207\n",
       "18-24         0.037914\n",
       "55-64         0.037591\n",
       "65 or over    0.003787\n",
       "under 18      0.000416\n",
       "Name: age, dtype: float64"
      ]
     },
     "execution_count": 16,
     "metadata": {},
     "output_type": "execute_result"
    },
    {
     "data": {
      "image/png": "[encoded data removed]",
      "text/plain": [
       "<Figure size 432x288 with 1 Axes>"
      ]
     },
     "metadata": {
      "needs_background": "light"
     },
     "output_type": "display_data"
    }
   ],
   "source": [
    "age_salary.plot.bar('index','age')\n",
    "salary['age'].value_counts(normalize = True)"
   ]
  },
  {
   "cell_type": "code",
   "execution_count": 17,
   "id": "b134203b",
   "metadata": {},
   "outputs": [],
   "source": [
    "salary = salary[(salary['age'] == '25-34') | (salary['age'] == '35-44')]"
   ]
  },
  {
   "cell_type": "markdown",
   "id": "aa86f855",
   "metadata": {},
   "source": [
    "Even though iWj wants to target a certain type of clients, the given dataset is heavily leaning towards roughly millenial white women."
   ]
  },
  {
   "cell_type": "code",
   "execution_count": 18,
   "id": "4c21ce75",
   "metadata": {},
   "outputs": [
    {
     "name": "stdout",
     "output_type": "stream",
     "text": [
      "College degree                        8411\n",
      "Master's degree                       5875\n",
      "Some college                           976\n",
      "Professional degree (MD, JD, etc.)     932\n",
      "PhD                                    842\n",
      "High School                            243\n",
      "Name: education_level, dtype: int64\n"
     ]
    },
    {
     "data": {
      "text/plain": [
       "<AxesSubplot:xlabel='education_level'>"
      ]
     },
     "execution_count": 18,
     "metadata": {},
     "output_type": "execute_result"
    },
    {
     "data": {
      "image/png": "[encoded data removed]",
      "text/plain": [
       "<Figure size 432x288 with 1 Axes>"
      ]
     },
     "metadata": {
      "needs_background": "light"
     },
     "output_type": "display_data"
    }
   ],
   "source": [
    "print(salary['education_level'].value_counts())\n",
    "degree_and_industry = salary.groupby('education_level').annual_salary.agg(['count','mean'])\n",
    "\n",
    "degree_and_industry = degree_and_industry[degree_and_industry['count'] > 10]\n",
    "degree_and_industry.reset_index(inplace = True)\n",
    "degree_and_industry.sort_values('mean', ascending = False, inplace = True)\n",
    "degree_and_industry.plot.bar('education_level','mean')"
   ]
  },
  {
   "cell_type": "markdown",
   "id": "1230d66d",
   "metadata": {},
   "source": [
    "# Looking at industry-wide characteristics"
   ]
  },
  {
   "cell_type": "code",
   "execution_count": 19,
   "id": "a9ec0b96",
   "metadata": {},
   "outputs": [
    {
     "name": "stdout",
     "output_type": "stream",
     "text": [
      "                                   index  industry  percentage\n",
      "0                      Computing or Tech      2836    0.200580\n",
      "1                             Nonprofits      1734    0.122640\n",
      "2           Education (Higher Education)      1589    0.112384\n",
      "3                            Health care      1153    0.081547\n",
      "4          Accounting, Banking & Finance      1077    0.076172\n",
      "5   Government and Public Administration      1059    0.074899\n",
      "6           Engineering or Manufacturing      1021    0.072212\n",
      "7                                    Law       774    0.054742\n",
      "8            Marketing, Advertising & PR       754    0.053328\n",
      "9          Education (Primary/Secondary)       528    0.037344\n",
      "10                Business or Consulting       513    0.036283\n",
      "11                       Media & Digital       469    0.033171\n",
      "12                             Insurance       322    0.022774\n",
      "13                     Recruitment or HR       310    0.021925\n"
     ]
    },
    {
     "data": {
      "text/plain": [
       "<AxesSubplot:ylabel='index'>"
      ]
     },
     "execution_count": 19,
     "metadata": {},
     "output_type": "execute_result"
    },
    {
     "data": {
      "image/png": "[encoded data removed]",
      "text/plain": [
       "<Figure size 432x288 with 1 Axes>"
      ]
     },
     "metadata": {
      "needs_background": "light"
     },
     "output_type": "display_data"
    }
   ],
   "source": [
    "industry_salary = salary.industry.value_counts().loc[lambda x: x>300] #taking the top 15 industries\n",
    "industry_salary= industry_salary.to_frame()\n",
    "industry_salary.reset_index(inplace = True)\n",
    "industry_salary['percentage'] = industry_salary['industry']/industry_salary['industry'].sum()\n",
    "print(industry_salary.head(15))\n",
    "industry_salary.plot.barh('index','industry')"
   ]
  },
  {
   "cell_type": "code",
   "execution_count": 20,
   "id": "2e515a10",
   "metadata": {},
   "outputs": [
    {
     "data": {
      "text/plain": [
       "<AxesSubplot:ylabel='industry'>"
      ]
     },
     "execution_count": 20,
     "metadata": {},
     "output_type": "execute_result"
    },
    {
     "data": {
      "image/png": "[encoded data removed]",
      "text/plain": [
       "<Figure size 432x288 with 1 Axes>"
      ]
     },
     "metadata": {
      "needs_background": "light"
     },
     "output_type": "display_data"
    }
   ],
   "source": [
    "#Looking at the average salary by industry\n",
    "salary_and_industry = salary.groupby('industry').annual_salary.agg(['count','mean'])\n",
    "salary_and_industry = salary_and_industry[salary_and_industry['count'] > 300]\n",
    "salary_and_industry.reset_index(inplace = True)\n",
    "salary_and_industry.sort_values('mean', ascending = False, inplace = True)\n",
    "salary_and_industry.plot.barh('industry','mean')"
   ]
  },
  {
   "cell_type": "markdown",
   "id": "84e8d900",
   "metadata": {},
   "source": [
    "The people who work in the computing or tech industry are making the most amount of money AND also are most present in this area"
   ]
  },
  {
   "cell_type": "markdown",
   "id": "c1bc406c",
   "metadata": {},
   "source": [
    "## ATFQ"
   ]
  },
  {
   "cell_type": "markdown",
   "id": "74555a0b",
   "metadata": {},
   "source": [
    "Considering the most popular age and the industry"
   ]
  },
  {
   "cell_type": "code",
   "execution_count": 21,
   "id": "118da5d5",
   "metadata": {
    "scrolled": true
   },
   "outputs": [
    {
     "data": {
      "text/html": [
       "<div>\n",
       "<style scoped>\n",
       "    .dataframe tbody tr th:only-of-type {\n",
       "        vertical-align: middle;\n",
       "    }\n",
       "\n",
       "    .dataframe tbody tr th {\n",
       "        vertical-align: top;\n",
       "    }\n",
       "\n",
       "    .dataframe thead th {\n",
       "        text-align: right;\n",
       "    }\n",
       "</style>\n",
       "<table border=\"1\" class=\"dataframe\">\n",
       "  <thead>\n",
       "    <tr style=\"text-align: right;\">\n",
       "      <th></th>\n",
       "      <th>timestamp</th>\n",
       "      <th>age</th>\n",
       "      <th>industry</th>\n",
       "      <th>job_title</th>\n",
       "      <th>annual_salary</th>\n",
       "      <th>other_monetary_comp</th>\n",
       "      <th>currency</th>\n",
       "      <th>country</th>\n",
       "      <th>state</th>\n",
       "      <th>city</th>\n",
       "      <th>years_of_professional_experience</th>\n",
       "      <th>years_of_experience_in_field</th>\n",
       "      <th>education_level</th>\n",
       "      <th>gender</th>\n",
       "      <th>race</th>\n",
       "    </tr>\n",
       "  </thead>\n",
       "  <tbody>\n",
       "    <tr>\n",
       "      <th>0</th>\n",
       "      <td>4/27/2021 11:02</td>\n",
       "      <td>25-34</td>\n",
       "      <td>Education (Higher Education)</td>\n",
       "      <td>Research and Instruction Librarian</td>\n",
       "      <td>55000</td>\n",
       "      <td>0.0</td>\n",
       "      <td>USD</td>\n",
       "      <td>United States</td>\n",
       "      <td>MA</td>\n",
       "      <td>Boston</td>\n",
       "      <td>5-7 years</td>\n",
       "      <td>5-7 years</td>\n",
       "      <td>Master's degree</td>\n",
       "      <td>Woman</td>\n",
       "      <td>White</td>\n",
       "    </tr>\n",
       "    <tr>\n",
       "      <th>1</th>\n",
       "      <td>4/27/2021 11:02</td>\n",
       "      <td>25-34</td>\n",
       "      <td>Accounting, Banking &amp; Finance</td>\n",
       "      <td>Marketing Specialist</td>\n",
       "      <td>34000</td>\n",
       "      <td>0.0</td>\n",
       "      <td>USD</td>\n",
       "      <td>US</td>\n",
       "      <td>TN</td>\n",
       "      <td>Chattanooga</td>\n",
       "      <td>2 - 4 years</td>\n",
       "      <td>2 - 4 years</td>\n",
       "      <td>College degree</td>\n",
       "      <td>Woman</td>\n",
       "      <td>White</td>\n",
       "    </tr>\n",
       "    <tr>\n",
       "      <th>2</th>\n",
       "      <td>4/27/2021 11:02</td>\n",
       "      <td>25-34</td>\n",
       "      <td>Nonprofits</td>\n",
       "      <td>Program Manager</td>\n",
       "      <td>62000</td>\n",
       "      <td>3000.0</td>\n",
       "      <td>USD</td>\n",
       "      <td>USA</td>\n",
       "      <td>WI</td>\n",
       "      <td>Milwaukee</td>\n",
       "      <td>8 - 10 years</td>\n",
       "      <td>5-7 years</td>\n",
       "      <td>College degree</td>\n",
       "      <td>Woman</td>\n",
       "      <td>White</td>\n",
       "    </tr>\n",
       "    <tr>\n",
       "      <th>3</th>\n",
       "      <td>4/27/2021 11:02</td>\n",
       "      <td>25-34</td>\n",
       "      <td>Accounting, Banking &amp; Finance</td>\n",
       "      <td>Accounting Manager</td>\n",
       "      <td>60000</td>\n",
       "      <td>7000.0</td>\n",
       "      <td>USD</td>\n",
       "      <td>US</td>\n",
       "      <td>SC</td>\n",
       "      <td>Greenville</td>\n",
       "      <td>8 - 10 years</td>\n",
       "      <td>5-7 years</td>\n",
       "      <td>College degree</td>\n",
       "      <td>Woman</td>\n",
       "      <td>White</td>\n",
       "    </tr>\n",
       "    <tr>\n",
       "      <th>4</th>\n",
       "      <td>4/27/2021 11:02</td>\n",
       "      <td>25-34</td>\n",
       "      <td>Education (Higher Education)</td>\n",
       "      <td>Scholarly Publishing Librarian</td>\n",
       "      <td>62000</td>\n",
       "      <td>0.0</td>\n",
       "      <td>USD</td>\n",
       "      <td>USA</td>\n",
       "      <td>NH</td>\n",
       "      <td>Hanover</td>\n",
       "      <td>8 - 10 years</td>\n",
       "      <td>2 - 4 years</td>\n",
       "      <td>Master's degree</td>\n",
       "      <td>Man</td>\n",
       "      <td>White</td>\n",
       "    </tr>\n",
       "  </tbody>\n",
       "</table>\n",
       "</div>"
      ],
      "text/plain": [
       "         timestamp    age                       industry  \\\n",
       "0  4/27/2021 11:02  25-34   Education (Higher Education)   \n",
       "1  4/27/2021 11:02  25-34  Accounting, Banking & Finance   \n",
       "2  4/27/2021 11:02  25-34                     Nonprofits   \n",
       "3  4/27/2021 11:02  25-34  Accounting, Banking & Finance   \n",
       "4  4/27/2021 11:02  25-34   Education (Higher Education)   \n",
       "\n",
       "                            job_title  annual_salary  other_monetary_comp  \\\n",
       "0  Research and Instruction Librarian          55000                  0.0   \n",
       "1                Marketing Specialist          34000                  0.0   \n",
       "2                     Program Manager          62000               3000.0   \n",
       "3                  Accounting Manager          60000               7000.0   \n",
       "4      Scholarly Publishing Librarian          62000                  0.0   \n",
       "\n",
       "  currency        country state         city years_of_professional_experience  \\\n",
       "0      USD  United States    MA       Boston                        5-7 years   \n",
       "1      USD             US    TN  Chattanooga                      2 - 4 years   \n",
       "2      USD            USA    WI    Milwaukee                     8 - 10 years   \n",
       "3      USD             US    SC   Greenville                     8 - 10 years   \n",
       "4      USD            USA    NH      Hanover                     8 - 10 years   \n",
       "\n",
       "  years_of_experience_in_field  education_level gender   race  \n",
       "0                    5-7 years  Master's degree  Woman  White  \n",
       "1                  2 - 4 years   College degree  Woman  White  \n",
       "2                    5-7 years   College degree  Woman  White  \n",
       "3                    5-7 years   College degree  Woman  White  \n",
       "4                  2 - 4 years  Master's degree    Man  White  "
      ]
     },
     "execution_count": 21,
     "metadata": {},
     "output_type": "execute_result"
    }
   ],
   "source": [
    "top_15_industry = industry_salary['index'].to_list()\n",
    "top_15_industry = salary[salary['industry'].isin(top_15_industry)]\n",
    "top_15_industry.reset_index(drop = True, inplace = True)\n",
    "top_15_industry.head()"
   ]
  },
  {
   "cell_type": "markdown",
   "id": "2ba7033a",
   "metadata": {},
   "source": [
    "## Looking at education level"
   ]
  },
  {
   "cell_type": "code",
   "execution_count": 22,
   "id": "dd229db1",
   "metadata": {},
   "outputs": [
    {
     "name": "stdout",
     "output_type": "stream",
     "text": [
      "College degree                        8411\n",
      "Master's degree                       5875\n",
      "Some college                           976\n",
      "Professional degree (MD, JD, etc.)     932\n",
      "PhD                                    842\n",
      "High School                            243\n",
      "Name: education_level, dtype: int64\n"
     ]
    },
    {
     "data": {
      "text/plain": [
       "<AxesSubplot:xlabel='education_level'>"
      ]
     },
     "execution_count": 22,
     "metadata": {},
     "output_type": "execute_result"
    },
    {
     "data": {
      "image/png": "[encoded data removed]",
      "text/plain": [
       "<Figure size 432x288 with 1 Axes>"
      ]
     },
     "metadata": {
      "needs_background": "light"
     },
     "output_type": "display_data"
    }
   ],
   "source": [
    "print(salary['education_level'].value_counts())\n",
    "degree_and_industry = top_15_industry.groupby('education_level').annual_salary.agg(['count','mean'])\n",
    "\n",
    "degree_and_industry = degree_and_industry[degree_and_industry['count'] > 10]\n",
    "degree_and_industry.reset_index(inplace = True)\n",
    "degree_and_industry.sort_values('mean', ascending = False, inplace = True)\n",
    "degree_and_industry.plot.bar('education_level','mean')"
   ]
  },
  {
   "cell_type": "markdown",
   "id": "8c5f7f24",
   "metadata": {},
   "source": [
    "We should be aiming for someone with a college degree or higher. Solely based on the data, people with some college or high school are not very well represented and also has the lowest earnings. Even though people with professional and phd does earn the highest, it is important to note that there are 7 times as many college and masters degree. If we want to target solely based on the earnings, we would target only the rpfessional degree but the amount of people in each group is also important"
   ]
  },
  {
   "cell_type": "code",
   "execution_count": 23,
   "id": "8138e2d9",
   "metadata": {
    "scrolled": true
   },
   "outputs": [
    {
     "name": "stdout",
     "output_type": "stream",
     "text": [
      "11 - 20 years       7058\n",
      "8 - 10 years        4076\n",
      "5-7 years           3555\n",
      "2 - 4 years         1628\n",
      "21 - 30 years        933\n",
      "1 year or less       134\n",
      "31 - 40 years          5\n",
      "41 years or more       1\n",
      "Name: years_of_professional_experience, dtype: int64\n"
     ]
    },
    {
     "data": {
      "text/plain": [
       "<AxesSubplot:xlabel='age'>"
      ]
     },
     "execution_count": 23,
     "metadata": {},
     "output_type": "execute_result"
    },
    {
     "data": {
      "image/png": "[encoded data removed]",
      "text/plain": [
       "<Figure size 432x288 with 1 Axes>"
      ]
     },
     "metadata": {
      "needs_background": "light"
     },
     "output_type": "display_data"
    },
    {
     "data": {
      "image/png": "[encoded data removed]",
      "text/plain": [
       "<Figure size 432x288 with 1 Axes>"
      ]
     },
     "metadata": {
      "needs_background": "light"
     },
     "output_type": "display_data"
    }
   ],
   "source": [
    "print(salary['years_of_professional_experience'].value_counts())\n",
    "prof_ex_and_industry = top_15_industry.groupby('years_of_professional_experience').annual_salary.agg(['count','mean'])\n",
    "\n",
    "prof_ex_and_industry = prof_ex_and_industry[prof_ex_and_industry['count'] > 10]\n",
    "prof_ex_and_industry.reset_index(inplace = True)\n",
    "prof_ex_and_industry.sort_values('mean', ascending = False, inplace = True)\n",
    "prof_ex_and_industry.plot.bar('years_of_professional_experience','mean')\n",
    "\n",
    "\n",
    "prof_ex_and_industry = top_15_industry.groupby(['years_of_professional_experience', 'age']).annual_salary.agg(['count','mean'])\n",
    "\n",
    "prof_ex_and_industry.pivot_table(index = 'age', columns = 'years_of_professional_experience' , values = 'count').plot(kind = 'bar', stacked = True)\n"
   ]
  },
  {
   "cell_type": "code",
   "execution_count": 24,
   "id": "bb0b4aaa",
   "metadata": {},
   "outputs": [
    {
     "name": "stdout",
     "output_type": "stream",
     "text": [
      "5-7 years           4762\n",
      "11 - 20 years       4106\n",
      "2 - 4 years         3934\n",
      "8 - 10 years        3637\n",
      "1 year or less       636\n",
      "21 - 30 years        305\n",
      "41 years or more       5\n",
      "31 - 40 years          5\n",
      "Name: years_of_experience_in_field, dtype: int64\n"
     ]
    },
    {
     "data": {
      "text/plain": [
       "<AxesSubplot:xlabel='years_of_experience_in_field'>"
      ]
     },
     "execution_count": 24,
     "metadata": {},
     "output_type": "execute_result"
    },
    {
     "data": {
      "image/png": "[encoded data removed]",
      "text/plain": [
       "<Figure size 432x288 with 1 Axes>"
      ]
     },
     "metadata": {
      "needs_background": "light"
     },
     "output_type": "display_data"
    }
   ],
   "source": [
    "print(salary['years_of_experience_in_field'].value_counts())\n",
    "spec_and_industry = top_15_industry.groupby('years_of_experience_in_field').annual_salary.agg(['count','mean'])\n",
    "\n",
    "spec_and_industry = spec_and_industry[spec_and_industry['count'] > 10]\n",
    "spec_and_industry.reset_index(inplace = True)\n",
    "spec_and_industry.sort_values('mean', ascending = False, inplace = True)\n",
    "spec_and_industry.plot.bar('years_of_experience_in_field','mean')"
   ]
  },
  {
   "cell_type": "markdown",
   "id": "d77b1a0f",
   "metadata": {},
   "source": [
    "Suggesting the idea that iwj should target those that are in the age range of 25-44 with those that have been around the job market as they are the age that is most willing to switch jobs"
   ]
  },
  {
   "cell_type": "code",
   "execution_count": null,
   "id": "93d1d85c",
   "metadata": {},
   "outputs": [],
   "source": []
  },
  {
   "cell_type": "code",
   "execution_count": 25,
   "id": "59b7beca",
   "metadata": {},
   "outputs": [],
   "source": [
    "salary.to_csv('salaryPython.csv')"
   ]
  },
  {
   "cell_type": "code",
   "execution_count": null,
   "id": "c2a48c40",
   "metadata": {},
   "outputs": [],
   "source": []
  }
 ],
 "metadata": {
  "kernelspec": {
   "display_name": "Python 3 (ipykernel)",
   "language": "python",
   "name": "python3"
  },
  "language_info": {
   "codemirror_mode": {
    "name": "ipython",
    "version": 3
   },
   "file_extension": ".py",
   "mimetype": "text/x-python",
   "name": "python",
   "nbconvert_exporter": "python",
   "pygments_lexer": "ipython3",
   "version": "3.9.7"
  }
 },
 "nbformat": 4,
 "nbformat_minor": 5
}
